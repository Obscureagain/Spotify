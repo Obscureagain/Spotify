{
 "cells": [
  {
   "cell_type": "code",
   "execution_count": 1,
   "id": "e1eb6a8a",
   "metadata": {},
   "outputs": [],
   "source": [
    "import pandas as pd\n",
    "import numpy as np\n",
    "import matplotlib.pyplot as plt\n",
    "from wordcloud import WordCloud, STOPWORDS, ImageColorGenerator\n",
    "from PIL import Image\n",
    "import urllib.request\n",
    "\n",
    "import os\n",
    "import json\n",
    "import spotipy\n",
    "from spotipy.oauth2 import SpotifyClientCredentials"
   ]
  },
  {
   "cell_type": "code",
   "execution_count": 41,
   "id": "39f5c23f",
   "metadata": {},
   "outputs": [],
   "source": [
    "def read_secrets() -> dict:\n",
    "    filename = os.path.join('secrets.json')\n",
    "    try:\n",
    "        with open(filename, mode='r') as f:\n",
    "            return json.loads(f.read())\n",
    "    except FileNotFoundError:\n",
    "        return {}\n",
    "secrets = read_secrets()\n",
    "\n",
    "client_credentials_manager = SpotifyClientCredentials(client_id=secrets['CLIENT_ID'], client_secret=secrets['CLIENT_SECRET'])\n",
    "sp = spotipy.Spotify(client_credentials_manager = client_credentials_manager)\n",
    "\n",
    "def get_playlist_id(playlist_link):\n",
    "    playlist_id = playlist_link.split(\"/\")[-1].split(\"?\")[0]\n",
    "    return playlist_id\n",
    "\n",
    "def get_playlist(username, playlist_id):\n",
    "    r = sp.user_playlist_tracks(username, playlist_id)\n",
    "    t = r['items']\n",
    "    ids = []\n",
    "    while r['next']:\n",
    "        r = sp.next(r)\n",
    "        t.extend(r['items'])\n",
    "    for s in t: ids.append((s['track']['artists'][0]['name'], s['track']['name'], s['track']['id']))\n",
    "    return ids\n",
    "\n",
    "def extract_artist(lst):\n",
    "    return [item[0] for item in lst]\n",
    "\n",
    "\n",
    "def extract_song(lst):\n",
    "    return [item[1] for item in lst]\n"
   ]
  },
  {
   "cell_type": "code",
   "execution_count": 42,
   "id": "43c691df",
   "metadata": {},
   "outputs": [],
   "source": [
    "playlist_link = \"https://open.spotify.com/playlist/0QObIGI6C5lv4X2CBlXpwX?si=14a13603d20f46f9\"\n",
    "#playlist_id = playlist_link.split(\"/\")[-1].split(\"?\")[0]\n",
    "\n",
    "#full_playlist = get_playlist('spotify', '7cDPS2cPq8yot0ZwGMmuv4')\n",
    "full_playlist = get_playlist('spotify', get_playlist_uri(playlist_link))\n",
    "\n",
    "#songs = extract_song(full_playlist)\n",
    "#artists = extract_artist(full_playlist)"
   ]
  },
  {
   "cell_type": "code",
   "execution_count": 43,
   "id": "7f0f2e23",
   "metadata": {},
   "outputs": [],
   "source": [
    "# Set color palette based on a given image url\n",
    "\n",
    "# Spotify pink/blue gradient image\n",
    "spotify_image_url = 'https://www.freepnglogos.com/uploads/spotify-logo-png/spotify-icon-pink-logo-33.png'\n",
    "\n",
    "# Python logo\n",
    "python_image_url = 'https://cdn.freebiesupply.com/logos/large/2x/python-5-logo-png-transparent.png'\n",
    "\n",
    "def get_colors(image_url, rgb1, rgb2):\n",
    "    urllib.request.urlretrieve(image_url, \"image.png\")\n",
    "    image = np.array(Image.open(\"image.png\"))\n",
    "    image_colors = ImageColorGenerator(image, default_color=None)\n",
    "    image_mask = image.copy()\n",
    "    image_mask[image_mask.sum(axis=2) == rgb1] = rgb2\n",
    "    return image_colors, image_mask"
   ]
  },
  {
   "cell_type": "code",
   "execution_count": 44,
   "id": "00217d03",
   "metadata": {},
   "outputs": [],
   "source": [
    "#create wordcloud from value counts of artist names\n",
    "def create_artist_cloud(image_url):\n",
    "    stopwords = [\"feat\"] + list(STOPWORDS)\n",
    "    wc = WordCloud(stopwords=stopwords, background_color=\"white\", max_words=None, mask=get_colors(image_url, 0, 255)[1]).generate_from_frequencies(pd.value_counts(extract_artist(full_playlist)))\n",
    "    wc.recolor(color_func=get_colors(image_url, 0, 255)[0])\n",
    "    plt.figure(figsize=(15,10))\n",
    "    plt.imshow(wc, interpolation='bilinear')\n",
    "    plt.axis(\"off\")\n",
    "    wc.to_file(\"wc_ArtistFrequencies.png\")\n",
    "    plt.show()"
   ]
  },
  {
   "cell_type": "code",
   "execution_count": 49,
   "id": "01f37241",
   "metadata": {},
   "outputs": [
    {
     "name": "stdout",
     "output_type": "stream",
     "text": [
      "Korn                       34\n",
      "Three Days Grace           19\n",
      "Five Finger Death Punch    15\n",
      "Death Grips                13\n",
      "Aesop Rock                 13\n",
      "                           ..\n",
      "Beéle                       1\n",
      "DotEXE                      1\n",
      "Tainy                       1\n",
      "Greeicy                     1\n",
      "Chela Rivas                 1\n",
      "Length: 730, dtype: int64\n"
     ]
    }
   ],
   "source": [
    "def main():\n",
    "    image_url = python_image_url\n",
    "    playlist_link = 'https://open.spotify.com/playlist/7cDPS2cPq8yot0ZwGMmuv4?si=bdc62e72451d4ba3'\n",
    "    full_playlist = get_playlist('spotify', get_playlist_id(playlist_link))\n",
    "    print(pd.value_counts(extract_artist(full_playlist)))\n",
    "    \n",
    "    #create_artist_cloud(image_url)\n",
    "\n",
    "if __name__ == '__main__':\n",
    "    main()"
   ]
  }
 ],
 "metadata": {
  "kernelspec": {
   "display_name": "Python 3.10.4 ('.venv': venv)",
   "language": "python",
   "name": "python3"
  },
  "language_info": {
   "codemirror_mode": {
    "name": "ipython",
    "version": 3
   },
   "file_extension": ".py",
   "mimetype": "text/x-python",
   "name": "python",
   "nbconvert_exporter": "python",
   "pygments_lexer": "ipython3",
   "version": "3.10.4"
  },
  "vscode": {
   "interpreter": {
    "hash": "cba056268df8472e719feb1fcf309964f06a1adef22b1adf12b9f5c600229ed6"
   }
  }
 },
 "nbformat": 4,
 "nbformat_minor": 5
}
